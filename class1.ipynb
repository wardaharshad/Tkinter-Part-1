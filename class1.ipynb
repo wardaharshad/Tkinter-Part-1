{
 "cells": [
  {
   "cell_type": "code",
   "execution_count": null,
   "metadata": {},
   "outputs": [],
   "source": []
  },
  {
   "cell_type": "code",
   "execution_count": 37,
   "metadata": {},
   "outputs": [],
   "source": [
    "import tkinter\n",
    "tkinter._test()"
   ]
  },
  {
   "cell_type": "code",
   "execution_count": 38,
   "metadata": {},
   "outputs": [],
   "source": [
    "from tkinter import *\n",
    "tk=Tk()\n",
    "listbox = Listbox(tk)\n",
    "listbox.pack(fill=Y)\n",
    "\n",
    "for i in range(30):\n",
    "    listbox.insert(END, str(i))\n",
    "mainloop()"
   ]
  },
  {
   "cell_type": "code",
   "execution_count": null,
   "metadata": {},
   "outputs": [],
   "source": [
    "from tkinter import *\n",
    "tk=Tk()\n",
    "c=Label(tk, text=\"Red\", bg=\"red\", fg=\"purple\")\n",
    "c.pack(fill=X)\n",
    "c=Label(tk, text=\"orange\", bg=\"yellow\", fg=\"white\")\n",
    "c.pack(fill=X)\n",
    "c=Label(tk, text=\"yellow\", bg=\"blue\", fg=\"white\")\n",
    "c.pack(fill=X)\n",
    "c=Button(tk, text=\"Red\", bg=\"red\", fg=\"purple\")\n",
    "c.pack(fill=X, side=BOTTOM)\n",
    "c=Button(tk, text=\"orange\", bg=\"yellow\", fg=\"white\")\n",
    "c.pack(fill=X,side=BOTTOM)\n",
    "c=Button(tk, text=\"yellow\", bg=\"blue\", fg=\"white\")\n",
    "c.pack(fill=X,side=BOTTOM)\n",
    "mainloop()"
   ]
  },
  {
   "cell_type": "code",
   "execution_count": null,
   "metadata": {},
   "outputs": [],
   "source": []
  }
 ],
 "metadata": {
  "kernelspec": {
   "display_name": "Python 3",
   "language": "python",
   "name": "python3"
  },
  "language_info": {
   "codemirror_mode": {
    "name": "ipython",
    "version": 3
   },
   "file_extension": ".py",
   "mimetype": "text/x-python",
   "name": "python",
   "nbconvert_exporter": "python",
   "pygments_lexer": "ipython3",
   "version": "3.7.4"
  }
 },
 "nbformat": 4,
 "nbformat_minor": 2
}
